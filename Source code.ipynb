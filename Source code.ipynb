{
 "cells": [
  {
   "cell_type": "code",
   "execution_count": 1,
   "id": "3e044980-2e14-4582-b3a4-4a05df121fa6",
   "metadata": {},
   "outputs": [
    {
     "ename": "ImportError",
     "evalue": "cannot import name 'geocodec' from 'geopandas.tools' (C:\\Users\\Acer\\AppData\\Local\\Programs\\Python\\Python312\\Lib\\site-packages\\geopandas\\tools\\__init__.py)",
     "output_type": "error",
     "traceback": [
      "\u001b[1;31m---------------------------------------------------------------------------\u001b[0m",
      "\u001b[1;31mImportError\u001b[0m                               Traceback (most recent call last)",
      "Cell \u001b[1;32mIn[1], line 3\u001b[0m\n\u001b[0;32m      1\u001b[0m \u001b[38;5;28;01mimport\u001b[39;00m \u001b[38;5;21;01mpandas\u001b[39;00m \u001b[38;5;28;01mas\u001b[39;00m \u001b[38;5;21;01mpd\u001b[39;00m\n\u001b[0;32m      2\u001b[0m \u001b[38;5;28;01mimport\u001b[39;00m \u001b[38;5;21;01mgeopandas\u001b[39;00m \u001b[38;5;28;01mas\u001b[39;00m \u001b[38;5;21;01mgpd\u001b[39;00m\n\u001b[1;32m----> 3\u001b[0m \u001b[38;5;28;01mfrom\u001b[39;00m \u001b[38;5;21;01mgeopandas\u001b[39;00m\u001b[38;5;21;01m.\u001b[39;00m\u001b[38;5;21;01mtools\u001b[39;00m \u001b[38;5;28;01mimport\u001b[39;00m geocodec\n",
      "\u001b[1;31mImportError\u001b[0m: cannot import name 'geocodec' from 'geopandas.tools' (C:\\Users\\Acer\\AppData\\Local\\Programs\\Python\\Python312\\Lib\\site-packages\\geopandas\\tools\\__init__.py)"
     ]
    }
   ],
   "source": [
    "import pandas as pd\n",
    "import geopandas as gpd\n",
    "from geopandas.tools import geocodec"
   ]
  },
  {
   "cell_type": "code",
   "execution_count": null,
   "id": "c03cdaec-5357-446f-a1fe-e041076d1203",
   "metadata": {},
   "outputs": [],
   "source": [
    "\n",
    "# Load the CSV file into a DataFrame\n",
    "input_csv_path = \"tree_loss_data.csv\"  # Replace with the path to your CSV file\n",
    "df = pd.read_csv(input_csv_path)\n",
    "\n",
    "# Geocode the country names\n",
    "geocoded = geocode(df[\"Country\"], provider=\"nominatim\", user_agent=\"geoapi\")\n",
    "\n",
    "# Extract latitude and longitude\n",
    "geocoded[\"Latitude\"] = geocoded.geometry.y\n",
    "geocoded[\"Longitude\"] = geocoded.geometry.x\n",
    "\n",
    "# Merge geocoded data with the original DataFrame\n",
    "df = pd.concat([df, geocoded[[\"Latitude\", \"Longitude\"]]], axis=1)\n",
    "\n",
    "# Convert to GeoDataFrame\n",
    "gdf = gpd.GeoDataFrame(\n",
    "    df, geometry=gpd.points_from_xy(df[\"Longitude\"], df[\"Latitude\"])\n",
    ")\n",
    "\n",
    "# Save the updated GeoDataFrame to a GeoJSON or CSV file\n",
    "output_path_geojson = \"geocoded_tree_loss_with_weather.geojson\"\n",
    "output_path_csv = \"geocoded_tree_loss_with_weather.csv\"\n",
    "gdf.to_file(output_path_geojson, driver=\"GeoJSON\")\n",
    "gdf.to_csv(output_path_csv, index=False)\n",
    "\n",
    "print(f\"Geocoded data saved to {output_path_geojson} and {output_path_csv}\")"
   ]
  },
  {
   "cell_type": "code",
   "execution_count": null,
   "id": "7196d5fe-5d2e-4f4e-a856-cc4e43f54ee7",
   "metadata": {},
   "outputs": [],
   "source": [
    "import pandas as pd\n",
    "import geopandas as gpd\n",
    "import matplotlib.pyplot as plt\n",
    "import seaborn as sns\n",
    "import folium\n",
    "from folium.plugins import HeatMap\n"
   ]
  },
  {
   "cell_type": "code",
   "execution_count": null,
   "id": "86ab847f-befd-45e9-9c1c-259ac241695d",
   "metadata": {},
   "outputs": [],
   "source": [
    "# Load geocoded CSV\n",
    "data_path = \"geocoded_tree_loss_with_weather.csv\"\n",
    "df = pd.read_csv(data_path)\n",
    "\n",
    "# Check data\n",
    "print(df.head())\n"
   ]
  },
  {
   "cell_type": "code",
   "execution_count": null,
   "id": "fec5d67e-5303-4294-afe0-1cd51b7523eb",
   "metadata": {},
   "outputs": [],
   "source": [
    "# Tree Cover Loss Trend by Country\n",
    "plt.figure(figsize=(12, 6))\n",
    "sns.barplot(data=df, x=\"Country\", y=\"Tree Cover Loss (2001–2023)\", palette=\"viridis\")\n",
    "plt.xticks(rotation=90)\n",
    "plt.title(\"Tree Cover Loss (2001–2023) by Country\", fontsize=16)\n",
    "plt.ylabel(\"Tree Cover Loss (hectares)\")\n",
    "plt.xlabel(\"Country\")\n",
    "plt.tight_layout()\n",
    "plt.show()\n",
    "\n",
    "# CO₂ Emissions Trend by Country\n",
    "plt.figure(figsize=(12, 6))\n",
    "sns.barplot(data=df, x=\"Country\", y=\"CO₂ Emissions from Deforestation (Gt)\", palette=\"magma\")\n",
    "plt.xticks(rotation=90)\n",
    "plt.title(\"CO₂ Emissions from Deforestation by Country\", fontsize=16)\n",
    "plt.ylabel(\"CO₂ Emissions (Gt)\")\n",
    "plt.xlabel(\"Country\")\n",
    "plt.tight_layout()\n",
    "plt.show()\n"
   ]
  },
  {
   "cell_type": "code",
   "execution_count": null,
   "id": "d7b19e66-bdb6-4343-971b-0e15a0acbf70",
   "metadata": {},
   "outputs": [],
   "source": [
    "# Initialize a folium map\n",
    "map_center = [0, 0]  # Approximate center of the world\n",
    "heat_map = folium.Map(location=map_center, zoom_start=2)\n",
    "\n",
    "# Prepare heatmap data\n",
    "heat_data = df[[\"Latitude\", \"Longitude\", \"Tree Cover Loss (2001–2023)\"]].dropna()\n",
    "heat_data = heat_data.values.tolist()\n",
    "\n",
    "# Add heat map layer\n",
    "HeatMap(heat_data, radius=15, max_zoom=13, blur=10, gradient={0.4: 'blue', 0.65: 'lime', 1: 'red'}).add_to(heat_map)\n",
    "\n",
    "# Save and display the map\n",
    "heat_map.save(\"tree_loss_heatmap.html\")\n",
    "print(\"Heat map saved as 'tree_loss_heatmap.html'. Open this file in a browser to view the map.\")\n"
   ]
  },
  {
   "cell_type": "code",
   "execution_count": null,
   "id": "6abb6688-93de-4183-baed-21bf6ffd5b5a",
   "metadata": {},
   "outputs": [],
   "source": []
  }
 ],
 "metadata": {
  "kernelspec": {
   "display_name": "Python 3 (ipykernel)",
   "language": "python",
   "name": "python3"
  },
  "language_info": {
   "codemirror_mode": {
    "name": "ipython",
    "version": 3
   },
   "file_extension": ".py",
   "mimetype": "text/x-python",
   "name": "python",
   "nbconvert_exporter": "python",
   "pygments_lexer": "ipython3",
   "version": "3.12.2"
  }
 },
 "nbformat": 4,
 "nbformat_minor": 5
}
